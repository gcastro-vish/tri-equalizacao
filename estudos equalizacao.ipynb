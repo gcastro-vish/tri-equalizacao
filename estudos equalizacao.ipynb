{
 "cells": [
  {
   "attachments": {},
   "cell_type": "markdown",
   "metadata": {},
   "source": [
    "# Equalização"
   ]
  },
  {
   "attachments": {},
   "cell_type": "markdown",
   "metadata": {},
   "source": [
    "## Um grupo fazendo duas provas parcialmente distintas\n",
    "\n",
    "Relizaremos a equalização simultânea e a equalização à posteriori.\n",
    "\n",
    "Para fazer a equalização simultanea, precisamos estimar os parâmetros dos itens e dos alunos simultâneamente, mesmo aqueles que fazem testes distintos. A equalização será garantida pois haverá algumas questões em comum nos dois testes. Nesse caso, a estimação de parâmetros deve ser feita via máxima verossimilhança marginal.\n",
    "\n",
    "Sob as seguintes suposições:\n",
    "* Os respondentes são da mesma população;\n",
    "* Questões não respondidas por um respondente são independentes de seu traço latente e só não foram respondidas porque não foram apresentadas a esse respondente\n",
    "* Dois modelos de testes, A e B, que foram construídos de um mesmo banco de questões, sendo:\n",
    "  * Modelo A: Questões de 1 a 10 do banco de questões,\n",
    "  * Modelo B: Questões de 7 a 16 do banco de questões,\n",
    "\n",
    "será realizada uma simulação de equalização."
   ]
  },
  {
   "cell_type": "code",
   "execution_count": 21,
   "metadata": {
    "vscode": {
     "languageId": "r"
    }
   },
   "outputs": [],
   "source": [
    "library(mirt)\n",
    "\n",
    "# Funcao para dar cbind preenchendo com NA\n",
    "cbind.fill <- function(...){\n",
    "    nm <- list(...) \n",
    "    nm <- lapply(nm, as.matrix)\n",
    "    n <- max(sapply(nm, nrow)) \n",
    "    do.call(cbind, lapply(nm, function (x) \n",
    "        rbind(x, matrix(, n-nrow(x), ncol(x)))))\n",
    "}"
   ]
  },
  {
   "attachments": {},
   "cell_type": "markdown",
   "metadata": {},
   "source": [
    "Para gerar o padrão de resposta dos alunos, consideramos que os existem 8 itens médios, 4 itens fáceis e 4 itens difíceis. Faremos dessa forma pois os parâmetros estimados não fariam sentido se gerarmos os padrões de resposta aleatoriamente.\n",
    "\n",
    "Os itens fáceis são os de número 3, 7, 9 e 16.\n",
    "\n",
    "Os itens difíceis são os de número 4, 8, 10 e 11.\n",
    "\n",
    "Os itens médios serão o restante: 1, 2, 5, 6, 12, 13, 14 e 15.\n",
    "\n",
    "A definição de itens fáceis ou difíceis dependem da estimação dos parâmetros do modelo, que dependerá do padrão de resposta de todos os alunos simultaneamente. Por isso, não necessariamente o que definimos como fácil terá dificuldade baixa, ou vice-versa para o que definimos como difícil. Essa definição foi feita somente para facilitar a criação do padrão de resposta de cada aluno individualmente."
   ]
  },
  {
   "cell_type": "code",
   "execution_count": 22,
   "metadata": {
    "vscode": {
     "languageId": "r"
    }
   },
   "outputs": [
    {
     "data": {
      "text/html": [
       "<table class=\"dataframe\">\n",
       "<caption>A data.frame: 6 × 16</caption>\n",
       "<thead>\n",
       "\t<tr><th scope=col>Item.1</th><th scope=col>Item.2</th><th scope=col>Item.3</th><th scope=col>Item.4</th><th scope=col>Item.5</th><th scope=col>Item.6</th><th scope=col>Item.7</th><th scope=col>Item.8</th><th scope=col>Item.9</th><th scope=col>Item.10</th><th scope=col>Item.11</th><th scope=col>Item.12</th><th scope=col>Item.13</th><th scope=col>Item.14</th><th scope=col>Item.15</th><th scope=col>Item.16</th></tr>\n",
       "\t<tr><th scope=col>&lt;dbl&gt;</th><th scope=col>&lt;dbl&gt;</th><th scope=col>&lt;dbl&gt;</th><th scope=col>&lt;dbl&gt;</th><th scope=col>&lt;dbl&gt;</th><th scope=col>&lt;dbl&gt;</th><th scope=col>&lt;dbl&gt;</th><th scope=col>&lt;dbl&gt;</th><th scope=col>&lt;dbl&gt;</th><th scope=col>&lt;dbl&gt;</th><th scope=col>&lt;dbl&gt;</th><th scope=col>&lt;dbl&gt;</th><th scope=col>&lt;dbl&gt;</th><th scope=col>&lt;dbl&gt;</th><th scope=col>&lt;dbl&gt;</th><th scope=col>&lt;dbl&gt;</th></tr>\n",
       "</thead>\n",
       "<tbody>\n",
       "\t<tr><td> 1</td><td> 0</td><td> 1</td><td> 1</td><td> 1</td><td> 0</td><td>1</td><td>1</td><td>0</td><td>0</td><td>NA</td><td>NA</td><td>NA</td><td>NA</td><td>NA</td><td>NA</td></tr>\n",
       "\t<tr><td> 0</td><td> 1</td><td> 0</td><td> 0</td><td> 1</td><td> 0</td><td>1</td><td>0</td><td>1</td><td>1</td><td>NA</td><td>NA</td><td>NA</td><td>NA</td><td>NA</td><td>NA</td></tr>\n",
       "\t<tr><td> 1</td><td> 1</td><td> 1</td><td> 0</td><td> 0</td><td> 1</td><td>0</td><td>0</td><td>1</td><td>0</td><td>NA</td><td>NA</td><td>NA</td><td>NA</td><td>NA</td><td>NA</td></tr>\n",
       "\t<tr><td>NA</td><td>NA</td><td>NA</td><td>NA</td><td>NA</td><td>NA</td><td>1</td><td>1</td><td>1</td><td>1</td><td> 1</td><td> 0</td><td> 1</td><td> 1</td><td> 0</td><td> 1</td></tr>\n",
       "\t<tr><td>NA</td><td>NA</td><td>NA</td><td>NA</td><td>NA</td><td>NA</td><td>0</td><td>0</td><td>1</td><td>0</td><td> 1</td><td> 0</td><td> 0</td><td> 1</td><td> 0</td><td> 0</td></tr>\n",
       "\t<tr><td>NA</td><td>NA</td><td>NA</td><td>NA</td><td>NA</td><td>NA</td><td>0</td><td>1</td><td>0</td><td>0</td><td> 0</td><td> 1</td><td> 0</td><td> 0</td><td> 1</td><td> 1</td></tr>\n",
       "</tbody>\n",
       "</table>\n"
      ],
      "text/latex": [
       "A data.frame: 6 × 16\n",
       "\\begin{tabular}{llllllllllllllll}\n",
       " Item.1 & Item.2 & Item.3 & Item.4 & Item.5 & Item.6 & Item.7 & Item.8 & Item.9 & Item.10 & Item.11 & Item.12 & Item.13 & Item.14 & Item.15 & Item.16\\\\\n",
       " <dbl> & <dbl> & <dbl> & <dbl> & <dbl> & <dbl> & <dbl> & <dbl> & <dbl> & <dbl> & <dbl> & <dbl> & <dbl> & <dbl> & <dbl> & <dbl>\\\\\n",
       "\\hline\n",
       "\t  1 &  0 &  1 &  1 &  1 &  0 & 1 & 1 & 0 & 0 & NA & NA & NA & NA & NA & NA\\\\\n",
       "\t  0 &  1 &  0 &  0 &  1 &  0 & 1 & 0 & 1 & 1 & NA & NA & NA & NA & NA & NA\\\\\n",
       "\t  1 &  1 &  1 &  0 &  0 &  1 & 0 & 0 & 1 & 0 & NA & NA & NA & NA & NA & NA\\\\\n",
       "\t NA & NA & NA & NA & NA & NA & 1 & 1 & 1 & 1 &  1 &  0 &  1 &  1 &  0 &  1\\\\\n",
       "\t NA & NA & NA & NA & NA & NA & 0 & 0 & 1 & 0 &  1 &  0 &  0 &  1 &  0 &  0\\\\\n",
       "\t NA & NA & NA & NA & NA & NA & 0 & 1 & 0 & 0 &  0 &  1 &  0 &  0 &  1 &  1\\\\\n",
       "\\end{tabular}\n"
      ],
      "text/markdown": [
       "\n",
       "A data.frame: 6 × 16\n",
       "\n",
       "| Item.1 &lt;dbl&gt; | Item.2 &lt;dbl&gt; | Item.3 &lt;dbl&gt; | Item.4 &lt;dbl&gt; | Item.5 &lt;dbl&gt; | Item.6 &lt;dbl&gt; | Item.7 &lt;dbl&gt; | Item.8 &lt;dbl&gt; | Item.9 &lt;dbl&gt; | Item.10 &lt;dbl&gt; | Item.11 &lt;dbl&gt; | Item.12 &lt;dbl&gt; | Item.13 &lt;dbl&gt; | Item.14 &lt;dbl&gt; | Item.15 &lt;dbl&gt; | Item.16 &lt;dbl&gt; |\n",
       "|---|---|---|---|---|---|---|---|---|---|---|---|---|---|---|---|\n",
       "|  1 |  0 |  1 |  1 |  1 |  0 | 1 | 1 | 0 | 0 | NA | NA | NA | NA | NA | NA |\n",
       "|  0 |  1 |  0 |  0 |  1 |  0 | 1 | 0 | 1 | 1 | NA | NA | NA | NA | NA | NA |\n",
       "|  1 |  1 |  1 |  0 |  0 |  1 | 0 | 0 | 1 | 0 | NA | NA | NA | NA | NA | NA |\n",
       "| NA | NA | NA | NA | NA | NA | 1 | 1 | 1 | 1 |  1 |  0 |  1 |  1 |  0 |  1 |\n",
       "| NA | NA | NA | NA | NA | NA | 0 | 0 | 1 | 0 |  1 |  0 |  0 |  1 |  0 |  0 |\n",
       "| NA | NA | NA | NA | NA | NA | 0 | 1 | 0 | 0 |  0 |  1 |  0 |  0 |  1 |  1 |\n",
       "\n"
      ],
      "text/plain": [
       "  Item.1 Item.2 Item.3 Item.4 Item.5 Item.6 Item.7 Item.8 Item.9 Item.10\n",
       "1  1      0      1      1      1      0     1      1      0      0      \n",
       "2  0      1      0      0      1      0     1      0      1      1      \n",
       "3  1      1      1      0      0      1     0      0      1      0      \n",
       "4 NA     NA     NA     NA     NA     NA     1      1      1      1      \n",
       "5 NA     NA     NA     NA     NA     NA     0      0      1      0      \n",
       "6 NA     NA     NA     NA     NA     NA     0      1      0      0      \n",
       "  Item.11 Item.12 Item.13 Item.14 Item.15 Item.16\n",
       "1 NA      NA      NA      NA      NA      NA     \n",
       "2 NA      NA      NA      NA      NA      NA     \n",
       "3 NA      NA      NA      NA      NA      NA     \n",
       "4  1       0       1       1       0       1     \n",
       "5  1       0       0       1       0       0     \n",
       "6  0       1       0       0       1       1     "
      ]
     },
     "metadata": {},
     "output_type": "display_data"
    }
   ],
   "source": [
    "# Dataframe com as respostas dos alunos\n",
    "data = data.frame('Item 1' = c(1,0,1,NA,NA,NA),\n",
    "                  'Item 2' = c(0,1,1,NA,NA,NA),\n",
    "                  'Item 3' = c(1,0,1,NA,NA,NA),\n",
    "                  'Item 4' = c(1,0,0,NA,NA,NA),\n",
    "                  'Item 5' = c(1,1,0,NA,NA,NA),\n",
    "                  'Item 6' = c(0,0,1,NA,NA,NA),\n",
    "                  'Item 7' = c(1,1,0,1,0,0),\n",
    "                  'Item 8' = c(1,0,0,1,0,1),\n",
    "                  'Item 9' = c(0,1,1,1,1,0),\n",
    "                  'Item 10' = c(0,1,0,1,0,0),\n",
    "                  'Item 11' = c(NA,NA,NA,1,1,0),\n",
    "                  'Item 12' = c(NA,NA,NA,0,0,1),\n",
    "                  'Item 13' = c(NA,NA,NA,1,0,0),\n",
    "                  'Item 14' = c(NA,NA,NA,1,1,0),\n",
    "                  'Item 15' = c(NA,NA,NA,0,0,1),\n",
    "                  'Item 16' = c(NA,NA,NA,1,0,1))\n",
    "data"
   ]
  },
  {
   "attachments": {},
   "cell_type": "markdown",
   "metadata": {},
   "source": [
    "## Fazendo equalização via população"
   ]
  },
  {
   "attachments": {},
   "cell_type": "markdown",
   "metadata": {},
   "source": [
    "Primeiro, faremos a estimação dos parâmetros pelo método da máxima verossimilhança marginal (MVM) e utilizar esses valores para estimar os traços latentes."
   ]
  },
  {
   "cell_type": "code",
   "execution_count": 23,
   "metadata": {
    "vscode": {
     "languageId": "r"
    }
   },
   "outputs": [
    {
     "name": "stdout",
     "output_type": "stream",
     "text": [
      "Iteration: 22, Log-Lik: -20.783, Max-Change: 0.000074\n"
     ]
    }
   ],
   "source": [
    "model = mirt(data, 1, itemtype = '3PL', technical = list(NCYCLES = 1000))"
   ]
  },
  {
   "attachments": {},
   "cell_type": "markdown",
   "metadata": {},
   "source": [
    "Mostrando os parâmetros dos itens."
   ]
  },
  {
   "cell_type": "code",
   "execution_count": 24,
   "metadata": {
    "vscode": {
     "languageId": "r"
    }
   },
   "outputs": [
    {
     "data": {
      "text/html": [
       "<table class=\"dataframe\">\n",
       "<caption>A data.frame: 16 × 4</caption>\n",
       "<thead>\n",
       "\t<tr><th></th><th scope=col>a1</th><th scope=col>d</th><th scope=col>g</th><th scope=col>u</th></tr>\n",
       "\t<tr><th></th><th scope=col>&lt;dbl&gt;</th><th scope=col>&lt;dbl&gt;</th><th scope=col>&lt;dbl&gt;</th><th scope=col>&lt;dbl&gt;</th></tr>\n",
       "</thead>\n",
       "<tbody>\n",
       "\t<tr><th scope=row>Item.1</th><td> 75.3305300</td><td>-23.0248414</td><td>5.000339e-01</td><td>1</td></tr>\n",
       "\t<tr><th scope=row>Item.2</th><td>-78.4216820</td><td> 23.7288509</td><td>2.805644e-06</td><td>1</td></tr>\n",
       "\t<tr><th scope=row>Item.3</th><td> 75.3305300</td><td>-23.0248414</td><td>5.000339e-01</td><td>1</td></tr>\n",
       "\t<tr><th scope=row>Item.4</th><td> 78.4512747</td><td>-23.7167923</td><td>1.406881e-06</td><td>1</td></tr>\n",
       "\t<tr><th scope=row>Item.5</th><td> 74.6217391</td><td> 22.7994007</td><td>3.167188e-06</td><td>1</td></tr>\n",
       "\t<tr><th scope=row>Item.6</th><td>-75.3454338</td><td>-22.8942083</td><td>1.553095e-06</td><td>1</td></tr>\n",
       "\t<tr><th scope=row>Item.7</th><td> 76.5489295</td><td> 22.7004555</td><td>9.305473e-07</td><td>1</td></tr>\n",
       "\t<tr><th scope=row>Item.8</th><td> 77.4199746</td><td>-23.3503427</td><td>2.629572e-01</td><td>1</td></tr>\n",
       "\t<tr><th scope=row>Item.9</th><td>  0.2918373</td><td>  0.7818701</td><td>1.010110e-04</td><td>1</td></tr>\n",
       "\t<tr><th scope=row>Item.10</th><td>  1.5452476</td><td> -0.6304832</td><td>1.888875e-06</td><td>1</td></tr>\n",
       "\t<tr><th scope=row>Item.11</th><td> 66.8143409</td><td> 73.3816141</td><td>2.771231e-06</td><td>1</td></tr>\n",
       "\t<tr><th scope=row>Item.12</th><td>-66.7866352</td><td>-73.2503820</td><td>1.450830e-06</td><td>1</td></tr>\n",
       "\t<tr><th scope=row>Item.13</th><td> 59.2242655</td><td> 16.2149463</td><td>1.451749e-06</td><td>1</td></tr>\n",
       "\t<tr><th scope=row>Item.14</th><td> 66.8143409</td><td> 73.3816141</td><td>2.771231e-06</td><td>1</td></tr>\n",
       "\t<tr><th scope=row>Item.15</th><td>-66.7866352</td><td>-73.2503820</td><td>1.450830e-06</td><td>1</td></tr>\n",
       "\t<tr><th scope=row>Item.16</th><td> 55.0749354</td><td> 14.7486129</td><td>5.000531e-01</td><td>1</td></tr>\n",
       "</tbody>\n",
       "</table>\n"
      ],
      "text/latex": [
       "A data.frame: 16 × 4\n",
       "\\begin{tabular}{r|llll}\n",
       "  & a1 & d & g & u\\\\\n",
       "  & <dbl> & <dbl> & <dbl> & <dbl>\\\\\n",
       "\\hline\n",
       "\tItem.1 &  75.3305300 & -23.0248414 & 5.000339e-01 & 1\\\\\n",
       "\tItem.2 & -78.4216820 &  23.7288509 & 2.805644e-06 & 1\\\\\n",
       "\tItem.3 &  75.3305300 & -23.0248414 & 5.000339e-01 & 1\\\\\n",
       "\tItem.4 &  78.4512747 & -23.7167923 & 1.406881e-06 & 1\\\\\n",
       "\tItem.5 &  74.6217391 &  22.7994007 & 3.167188e-06 & 1\\\\\n",
       "\tItem.6 & -75.3454338 & -22.8942083 & 1.553095e-06 & 1\\\\\n",
       "\tItem.7 &  76.5489295 &  22.7004555 & 9.305473e-07 & 1\\\\\n",
       "\tItem.8 &  77.4199746 & -23.3503427 & 2.629572e-01 & 1\\\\\n",
       "\tItem.9 &   0.2918373 &   0.7818701 & 1.010110e-04 & 1\\\\\n",
       "\tItem.10 &   1.5452476 &  -0.6304832 & 1.888875e-06 & 1\\\\\n",
       "\tItem.11 &  66.8143409 &  73.3816141 & 2.771231e-06 & 1\\\\\n",
       "\tItem.12 & -66.7866352 & -73.2503820 & 1.450830e-06 & 1\\\\\n",
       "\tItem.13 &  59.2242655 &  16.2149463 & 1.451749e-06 & 1\\\\\n",
       "\tItem.14 &  66.8143409 &  73.3816141 & 2.771231e-06 & 1\\\\\n",
       "\tItem.15 & -66.7866352 & -73.2503820 & 1.450830e-06 & 1\\\\\n",
       "\tItem.16 &  55.0749354 &  14.7486129 & 5.000531e-01 & 1\\\\\n",
       "\\end{tabular}\n"
      ],
      "text/markdown": [
       "\n",
       "A data.frame: 16 × 4\n",
       "\n",
       "| <!--/--> | a1 &lt;dbl&gt; | d &lt;dbl&gt; | g &lt;dbl&gt; | u &lt;dbl&gt; |\n",
       "|---|---|---|---|---|\n",
       "| Item.1 |  75.3305300 | -23.0248414 | 5.000339e-01 | 1 |\n",
       "| Item.2 | -78.4216820 |  23.7288509 | 2.805644e-06 | 1 |\n",
       "| Item.3 |  75.3305300 | -23.0248414 | 5.000339e-01 | 1 |\n",
       "| Item.4 |  78.4512747 | -23.7167923 | 1.406881e-06 | 1 |\n",
       "| Item.5 |  74.6217391 |  22.7994007 | 3.167188e-06 | 1 |\n",
       "| Item.6 | -75.3454338 | -22.8942083 | 1.553095e-06 | 1 |\n",
       "| Item.7 |  76.5489295 |  22.7004555 | 9.305473e-07 | 1 |\n",
       "| Item.8 |  77.4199746 | -23.3503427 | 2.629572e-01 | 1 |\n",
       "| Item.9 |   0.2918373 |   0.7818701 | 1.010110e-04 | 1 |\n",
       "| Item.10 |   1.5452476 |  -0.6304832 | 1.888875e-06 | 1 |\n",
       "| Item.11 |  66.8143409 |  73.3816141 | 2.771231e-06 | 1 |\n",
       "| Item.12 | -66.7866352 | -73.2503820 | 1.450830e-06 | 1 |\n",
       "| Item.13 |  59.2242655 |  16.2149463 | 1.451749e-06 | 1 |\n",
       "| Item.14 |  66.8143409 |  73.3816141 | 2.771231e-06 | 1 |\n",
       "| Item.15 | -66.7866352 | -73.2503820 | 1.450830e-06 | 1 |\n",
       "| Item.16 |  55.0749354 |  14.7486129 | 5.000531e-01 | 1 |\n",
       "\n"
      ],
      "text/plain": [
       "        a1          d           g            u\n",
       "Item.1   75.3305300 -23.0248414 5.000339e-01 1\n",
       "Item.2  -78.4216820  23.7288509 2.805644e-06 1\n",
       "Item.3   75.3305300 -23.0248414 5.000339e-01 1\n",
       "Item.4   78.4512747 -23.7167923 1.406881e-06 1\n",
       "Item.5   74.6217391  22.7994007 3.167188e-06 1\n",
       "Item.6  -75.3454338 -22.8942083 1.553095e-06 1\n",
       "Item.7   76.5489295  22.7004555 9.305473e-07 1\n",
       "Item.8   77.4199746 -23.3503427 2.629572e-01 1\n",
       "Item.9    0.2918373   0.7818701 1.010110e-04 1\n",
       "Item.10   1.5452476  -0.6304832 1.888875e-06 1\n",
       "Item.11  66.8143409  73.3816141 2.771231e-06 1\n",
       "Item.12 -66.7866352 -73.2503820 1.450830e-06 1\n",
       "Item.13  59.2242655  16.2149463 1.451749e-06 1\n",
       "Item.14  66.8143409  73.3816141 2.771231e-06 1\n",
       "Item.15 -66.7866352 -73.2503820 1.450830e-06 1\n",
       "Item.16  55.0749354  14.7486129 5.000531e-01 1"
      ]
     },
     "metadata": {},
     "output_type": "display_data"
    }
   ],
   "source": [
    "xi = as.data.frame(coef(model, simplify = TRUE)$items)\n",
    "xi"
   ]
  },
  {
   "attachments": {},
   "cell_type": "markdown",
   "metadata": {},
   "source": [
    "O pacote mirt tem uma parametrização diferente para a dificuldade. Na tabela, temos o parâmetro $d$, que é dado por\n",
    "\n",
    "\\begin{align*}\n",
    "    d = - a\\times b \\implies b = -\\dfrac{d}{a}\n",
    "\\end{align*}\n",
    "\n",
    "Dito isso, vamos adicionar uma coluna no dataframe $\\boldsymbol{\\xi}$ de parâmetros dos itens referente a dificuldade e mostrá-lo."
   ]
  },
  {
   "cell_type": "code",
   "execution_count": 25,
   "metadata": {
    "vscode": {
     "languageId": "r"
    }
   },
   "outputs": [],
   "source": [
    "# Na parametrizacao do mirt o parâmetro de dificuldade é dado por d = -a * b e portanto b = - d / a\n",
    "xi['b'] = - xi['d'] / xi['a1']"
   ]
  },
  {
   "cell_type": "code",
   "execution_count": null,
   "metadata": {
    "vscode": {
     "languageId": "r"
    }
   },
   "outputs": [],
   "source": []
  },
  {
   "attachments": {},
   "cell_type": "markdown",
   "metadata": {},
   "source": [
    "Finalmente, estimaremos os traços latentes dos respondentes."
   ]
  },
  {
   "cell_type": "code",
   "execution_count": 26,
   "metadata": {
    "vscode": {
     "languageId": "r"
    }
   },
   "outputs": [
    {
     "data": {
      "text/html": [
       "<table class=\"dataframe\">\n",
       "<caption>A data.frame: 6 × 2</caption>\n",
       "<thead>\n",
       "\t<tr><th scope=col>respondente</th><th scope=col>theta</th></tr>\n",
       "\t<tr><th scope=col>&lt;int&gt;</th><th scope=col>&lt;dbl[,1]&gt;</th></tr>\n",
       "</thead>\n",
       "<tbody>\n",
       "\t<tr><td>1</td><td> 0.73108324</td></tr>\n",
       "\t<tr><td>2</td><td> 0.02872096</td></tr>\n",
       "\t<tr><td>3</td><td>-1.00461457</td></tr>\n",
       "\t<tr><td>4</td><td> 1.05594111</td></tr>\n",
       "\t<tr><td>5</td><td>-0.67221722</td></tr>\n",
       "\t<tr><td>6</td><td>-1.65194901</td></tr>\n",
       "</tbody>\n",
       "</table>\n"
      ],
      "text/latex": [
       "A data.frame: 6 × 2\n",
       "\\begin{tabular}{ll}\n",
       " respondente & theta\\\\\n",
       " <int> & <dbl{[},1{]}>\\\\\n",
       "\\hline\n",
       "\t 1 &  0.73108324\\\\\n",
       "\t 2 &  0.02872096\\\\\n",
       "\t 3 & -1.00461457\\\\\n",
       "\t 4 &  1.05594111\\\\\n",
       "\t 5 & -0.67221722\\\\\n",
       "\t 6 & -1.65194901\\\\\n",
       "\\end{tabular}\n"
      ],
      "text/markdown": [
       "\n",
       "A data.frame: 6 × 2\n",
       "\n",
       "| respondente &lt;int&gt; | theta &lt;dbl[,1]&gt; |\n",
       "|---|---|\n",
       "| 1 |  0.73108324 |\n",
       "| 2 |  0.02872096 |\n",
       "| 3 | -1.00461457 |\n",
       "| 4 |  1.05594111 |\n",
       "| 5 | -0.67221722 |\n",
       "| 6 | -1.65194901 |\n",
       "\n"
      ],
      "text/plain": [
       "  respondente theta      \n",
       "1 1            0.73108324\n",
       "2 2            0.02872096\n",
       "3 3           -1.00461457\n",
       "4 4            1.05594111\n",
       "5 5           -0.67221722\n",
       "6 6           -1.65194901"
      ]
     },
     "metadata": {},
     "output_type": "display_data"
    }
   ],
   "source": [
    "# Agora, estimando os traços latentes\n",
    "theta = data.frame('respondente' = 1:6)\n",
    "theta$theta = fscores(model)\n",
    "theta"
   ]
  },
  {
   "attachments": {},
   "cell_type": "markdown",
   "metadata": {},
   "source": [
    "Os resultados obtidos implicam que o qualto respondente é aquele com maior habilidade, com $\\theta_4 \\approx 1.056$ e o sexto respondente é aquele com menor habilidade, com $\\theta_6 \\approx -1.652$, dentre os respondentes de ambos os testes. Ainda, os respondentes do teste A têm, no geral, traço latente maior que os respondentes do teste B. Essa comparação de respondentes dos dois subgrupos é possível devido a equalização dos parâmetros, já que as estimativas dos traços latentes estão na mesma métrica.\n",
    "\n",
    "Vamos, então, realizar a equalização a posteriori e comparar os resultados."
   ]
  },
  {
   "attachments": {},
   "cell_type": "markdown",
   "metadata": {},
   "source": [
    "## Fazendo a equalização a posteriori"
   ]
  },
  {
   "attachments": {},
   "cell_type": "markdown",
   "metadata": {},
   "source": [
    "Para fazer a equalização a posteriori é preciso que ambos os testes jás estejam calibrados cada um em sua própria escala. Então, a seguir, os testes serão calibrados individualmente via MVM.\n",
    "\n",
    "A fim de comparar com os resultados da equalização via população, os mesmos padrões de respostas será utilizado."
   ]
  },
  {
   "cell_type": "code",
   "execution_count": 27,
   "metadata": {
    "vscode": {
     "languageId": "r"
    }
   },
   "outputs": [
    {
     "data": {
      "text/html": [
       "<table class=\"dataframe\">\n",
       "<caption>A data.frame: 3 × 10</caption>\n",
       "<thead>\n",
       "\t<tr><th scope=col>Item.1</th><th scope=col>Item.2</th><th scope=col>Item.3</th><th scope=col>Item.4</th><th scope=col>Item.5</th><th scope=col>Item.6</th><th scope=col>Item.7</th><th scope=col>Item.8</th><th scope=col>Item.9</th><th scope=col>Item.10</th></tr>\n",
       "\t<tr><th scope=col>&lt;dbl&gt;</th><th scope=col>&lt;dbl&gt;</th><th scope=col>&lt;dbl&gt;</th><th scope=col>&lt;dbl&gt;</th><th scope=col>&lt;dbl&gt;</th><th scope=col>&lt;dbl&gt;</th><th scope=col>&lt;dbl&gt;</th><th scope=col>&lt;dbl&gt;</th><th scope=col>&lt;dbl&gt;</th><th scope=col>&lt;dbl&gt;</th></tr>\n",
       "</thead>\n",
       "<tbody>\n",
       "\t<tr><td>1</td><td>0</td><td>1</td><td>1</td><td>1</td><td>0</td><td>1</td><td>1</td><td>0</td><td>0</td></tr>\n",
       "\t<tr><td>0</td><td>1</td><td>0</td><td>0</td><td>1</td><td>0</td><td>1</td><td>0</td><td>1</td><td>1</td></tr>\n",
       "\t<tr><td>1</td><td>1</td><td>1</td><td>0</td><td>0</td><td>1</td><td>0</td><td>0</td><td>1</td><td>0</td></tr>\n",
       "</tbody>\n",
       "</table>\n"
      ],
      "text/latex": [
       "A data.frame: 3 × 10\n",
       "\\begin{tabular}{llllllllll}\n",
       " Item.1 & Item.2 & Item.3 & Item.4 & Item.5 & Item.6 & Item.7 & Item.8 & Item.9 & Item.10\\\\\n",
       " <dbl> & <dbl> & <dbl> & <dbl> & <dbl> & <dbl> & <dbl> & <dbl> & <dbl> & <dbl>\\\\\n",
       "\\hline\n",
       "\t 1 & 0 & 1 & 1 & 1 & 0 & 1 & 1 & 0 & 0\\\\\n",
       "\t 0 & 1 & 0 & 0 & 1 & 0 & 1 & 0 & 1 & 1\\\\\n",
       "\t 1 & 1 & 1 & 0 & 0 & 1 & 0 & 0 & 1 & 0\\\\\n",
       "\\end{tabular}\n"
      ],
      "text/markdown": [
       "\n",
       "A data.frame: 3 × 10\n",
       "\n",
       "| Item.1 &lt;dbl&gt; | Item.2 &lt;dbl&gt; | Item.3 &lt;dbl&gt; | Item.4 &lt;dbl&gt; | Item.5 &lt;dbl&gt; | Item.6 &lt;dbl&gt; | Item.7 &lt;dbl&gt; | Item.8 &lt;dbl&gt; | Item.9 &lt;dbl&gt; | Item.10 &lt;dbl&gt; |\n",
       "|---|---|---|---|---|---|---|---|---|---|\n",
       "| 1 | 0 | 1 | 1 | 1 | 0 | 1 | 1 | 0 | 0 |\n",
       "| 0 | 1 | 0 | 0 | 1 | 0 | 1 | 0 | 1 | 1 |\n",
       "| 1 | 1 | 1 | 0 | 0 | 1 | 0 | 0 | 1 | 0 |\n",
       "\n"
      ],
      "text/plain": [
       "  Item.1 Item.2 Item.3 Item.4 Item.5 Item.6 Item.7 Item.8 Item.9 Item.10\n",
       "1 1      0      1      1      1      0      1      1      0      0      \n",
       "2 0      1      0      0      1      0      1      0      1      1      \n",
       "3 1      1      1      0      0      1      0      0      1      0      "
      ]
     },
     "metadata": {},
     "output_type": "display_data"
    }
   ],
   "source": [
    "# Dataframe com as respostas dos respondentes do teste A\n",
    "data_A = data.frame('Item 1' = c(1,0,1),\n",
    "                    'Item 2' = c(0,1,1),\n",
    "                    'Item 3' = c(1,0,1),\n",
    "                    'Item 4' = c(1,0,0),\n",
    "                    'Item 5' = c(1,1,0),\n",
    "                    'Item 6' = c(0,0,1),\n",
    "                    'Item 7' = c(1,1,0),\n",
    "                    'Item 8' = c(1,0,0),\n",
    "                    'Item 9' = c(0,1,1),\n",
    "                    'Item 10' = c(0,1,0))\n",
    "data_A"
   ]
  },
  {
   "cell_type": "code",
   "execution_count": 28,
   "metadata": {
    "vscode": {
     "languageId": "r"
    }
   },
   "outputs": [
    {
     "data": {
      "text/html": [
       "<table class=\"dataframe\">\n",
       "<caption>A data.frame: 3 × 10</caption>\n",
       "<thead>\n",
       "\t<tr><th scope=col>Item.7</th><th scope=col>Item.8</th><th scope=col>Item.9</th><th scope=col>Item.10</th><th scope=col>Item.11</th><th scope=col>Item.12</th><th scope=col>Item.13</th><th scope=col>Item.14</th><th scope=col>Item.15</th><th scope=col>Item.16</th></tr>\n",
       "\t<tr><th scope=col>&lt;dbl&gt;</th><th scope=col>&lt;dbl&gt;</th><th scope=col>&lt;dbl&gt;</th><th scope=col>&lt;dbl&gt;</th><th scope=col>&lt;dbl&gt;</th><th scope=col>&lt;dbl&gt;</th><th scope=col>&lt;dbl&gt;</th><th scope=col>&lt;dbl&gt;</th><th scope=col>&lt;dbl&gt;</th><th scope=col>&lt;dbl&gt;</th></tr>\n",
       "</thead>\n",
       "<tbody>\n",
       "\t<tr><td>1</td><td>1</td><td>1</td><td>1</td><td>1</td><td>0</td><td>1</td><td>1</td><td>0</td><td>1</td></tr>\n",
       "\t<tr><td>0</td><td>0</td><td>1</td><td>0</td><td>1</td><td>0</td><td>0</td><td>1</td><td>0</td><td>0</td></tr>\n",
       "\t<tr><td>0</td><td>1</td><td>0</td><td>0</td><td>0</td><td>1</td><td>0</td><td>0</td><td>1</td><td>1</td></tr>\n",
       "</tbody>\n",
       "</table>\n"
      ],
      "text/latex": [
       "A data.frame: 3 × 10\n",
       "\\begin{tabular}{llllllllll}\n",
       " Item.7 & Item.8 & Item.9 & Item.10 & Item.11 & Item.12 & Item.13 & Item.14 & Item.15 & Item.16\\\\\n",
       " <dbl> & <dbl> & <dbl> & <dbl> & <dbl> & <dbl> & <dbl> & <dbl> & <dbl> & <dbl>\\\\\n",
       "\\hline\n",
       "\t 1 & 1 & 1 & 1 & 1 & 0 & 1 & 1 & 0 & 1\\\\\n",
       "\t 0 & 0 & 1 & 0 & 1 & 0 & 0 & 1 & 0 & 0\\\\\n",
       "\t 0 & 1 & 0 & 0 & 0 & 1 & 0 & 0 & 1 & 1\\\\\n",
       "\\end{tabular}\n"
      ],
      "text/markdown": [
       "\n",
       "A data.frame: 3 × 10\n",
       "\n",
       "| Item.7 &lt;dbl&gt; | Item.8 &lt;dbl&gt; | Item.9 &lt;dbl&gt; | Item.10 &lt;dbl&gt; | Item.11 &lt;dbl&gt; | Item.12 &lt;dbl&gt; | Item.13 &lt;dbl&gt; | Item.14 &lt;dbl&gt; | Item.15 &lt;dbl&gt; | Item.16 &lt;dbl&gt; |\n",
       "|---|---|---|---|---|---|---|---|---|---|\n",
       "| 1 | 1 | 1 | 1 | 1 | 0 | 1 | 1 | 0 | 1 |\n",
       "| 0 | 0 | 1 | 0 | 1 | 0 | 0 | 1 | 0 | 0 |\n",
       "| 0 | 1 | 0 | 0 | 0 | 1 | 0 | 0 | 1 | 1 |\n",
       "\n"
      ],
      "text/plain": [
       "  Item.7 Item.8 Item.9 Item.10 Item.11 Item.12 Item.13 Item.14 Item.15 Item.16\n",
       "1 1      1      1      1       1       0       1       1       0       1      \n",
       "2 0      0      1      0       1       0       0       1       0       0      \n",
       "3 0      1      0      0       0       1       0       0       1       1      "
      ]
     },
     "metadata": {},
     "output_type": "display_data"
    }
   ],
   "source": [
    "# Dataframe com as respostas dos respondentes do teste B\n",
    "data_B = data.frame('Item 7' = c(1,0,0),\n",
    "                    'Item 8' = c(1,0,1),\n",
    "                    'Item 9' = c(1,1,0),\n",
    "                    'Item 10' = c(1,0,0),\n",
    "                    'Item 11' = c(1,1,0),\n",
    "                    'Item 12' = c(0,0,1),\n",
    "                    'Item 13' = c(1,0,0),\n",
    "                    'Item 14' = c(1,1,0),\n",
    "                    'Item 15' = c(0,0,1),\n",
    "                    'Item 16' = c(1,0,1))\n",
    "data_B"
   ]
  },
  {
   "cell_type": "code",
   "execution_count": 29,
   "metadata": {
    "vscode": {
     "languageId": "r"
    }
   },
   "outputs": [
    {
     "name": "stdout",
     "output_type": "stream",
     "text": [
      "Iteration: 18, Log-Lik: -10.771, Max-Change: 0.0001049\n",
      "Iteration: 9, Log-Lik: -6.267, Max-Change: 0.000054\n"
     ]
    }
   ],
   "source": [
    "# Estimacao dos itens via MVM\n",
    "modelA = mirt(data_A, 1, itemtype = '3PL', technical = list(NCYCLES = 1000))\n",
    "modelB = mirt(data_B, 1, itemtype = '3PL', technical = list(NCYCLES = 1000))"
   ]
  },
  {
   "cell_type": "code",
   "execution_count": 30,
   "metadata": {
    "vscode": {
     "languageId": "r"
    }
   },
   "outputs": [],
   "source": [
    "xiA = as.data.frame(coef(modelA, simplify = TRUE)$items)\n",
    "xiB = as.data.frame(coef(modelB, simplify = TRUE)$items)\n",
    "\n",
    "xiA['b'] = - xiA['d'] / xiA['a1']\n",
    "xiB['b'] = - xiB['d'] / xiB['a1']"
   ]
  },
  {
   "attachments": {},
   "cell_type": "markdown",
   "metadata": {},
   "source": [
    "Agora, fazendo a estimação dos traços latentes."
   ]
  },
  {
   "cell_type": "code",
   "execution_count": 31,
   "metadata": {
    "vscode": {
     "languageId": "r"
    }
   },
   "outputs": [],
   "source": [
    "# Agora, estimando os traços latentes\n",
    "thetaA = data.frame('respondente' = 1:3)\n",
    "thetaB = data.frame('respondente' = 4:6)\n",
    "\n",
    "thetaA$thetaA = fscores(modelA)\n",
    "thetaB$thetaB = fscores(modelB)"
   ]
  },
  {
   "attachments": {},
   "cell_type": "markdown",
   "metadata": {},
   "source": [
    "Finalmente, fazendo a equalização utilizando o método média-desvio."
   ]
  },
  {
   "cell_type": "code",
   "execution_count": 32,
   "metadata": {
    "vscode": {
     "languageId": "r"
    }
   },
   "outputs": [],
   "source": [
    "getMD = function(b){\n",
    "    return(c(mean(b), sd(b)))\n",
    "}\n",
    "\n",
    "mdA = getMD(xiA$b)\n",
    "mdB = getMD(xiB$b)"
   ]
  },
  {
   "cell_type": "code",
   "execution_count": 33,
   "metadata": {
    "vscode": {
     "languageId": "r"
    }
   },
   "outputs": [],
   "source": [
    "alpha = mdA[2]/mdB[2]\n",
    "beta = mdA[1] - alpha * mdB[1]"
   ]
  },
  {
   "cell_type": "code",
   "execution_count": 34,
   "metadata": {
    "vscode": {
     "languageId": "r"
    }
   },
   "outputs": [],
   "source": [
    "thetaA_B = data.frame('respondente' = 1:3)\n",
    "thetaB_A = data.frame('respondente' = 4:6)\n",
    "\n",
    "thetaA_B$thetaB = alpha*thetaA$thetaA + beta\n",
    "thetaB_A$thetaA = alpha*thetaB$thetaB + beta\n",
    "\n",
    "thetaA = rbind(thetaA, thetaB_A)\n",
    "thetaB = rbind(thetaA_B, thetaB)"
   ]
  },
  {
   "attachments": {},
   "cell_type": "markdown",
   "metadata": {},
   "source": [
    "## Compração dos resultados"
   ]
  },
  {
   "attachments": {},
   "cell_type": "markdown",
   "metadata": {},
   "source": [
    "Com o intuito de comparar a equalização em ambos os casos, vamos montar um dataframe com toda as estimativas."
   ]
  },
  {
   "cell_type": "code",
   "execution_count": 35,
   "metadata": {
    "vscode": {
     "languageId": "r"
    }
   },
   "outputs": [],
   "source": [
    "dfthetas = list(thetaA, thetaB)"
   ]
  },
  {
   "cell_type": "code",
   "execution_count": 36,
   "metadata": {
    "vscode": {
     "languageId": "r"
    }
   },
   "outputs": [],
   "source": [
    "for (t in dfthetas){\n",
    "    theta = merge(theta, t, by = 'respondente', all.x = TRUE)\n",
    "}"
   ]
  },
  {
   "attachments": {},
   "cell_type": "markdown",
   "metadata": {},
   "source": [
    "Mostrando o dataframe com todas as estimativas, ordenando em ordem crescente os valores dos traços latentes referentes a equalização via população."
   ]
  },
  {
   "cell_type": "code",
   "execution_count": 41,
   "metadata": {
    "vscode": {
     "languageId": "r"
    }
   },
   "outputs": [
    {
     "data": {
      "text/html": [
       "<table class=\"dataframe\">\n",
       "<caption>A data.frame: 6 × 4</caption>\n",
       "<thead>\n",
       "\t<tr><th></th><th scope=col>respondente</th><th scope=col>theta</th><th scope=col>thetaA</th><th scope=col>thetaB</th></tr>\n",
       "\t<tr><th></th><th scope=col>&lt;dbl&gt;</th><th scope=col>&lt;dbl[,1]&gt;</th><th scope=col>&lt;dbl[,1]&gt;</th><th scope=col>&lt;dbl[,1]&gt;</th></tr>\n",
       "</thead>\n",
       "<tbody>\n",
       "\t<tr><th scope=row>6</th><td>6</td><td>-1.652</td><td>-0.825</td><td>-1.450</td></tr>\n",
       "\t<tr><th scope=row>3</th><td>3</td><td>-1.005</td><td>-0.618</td><td>-0.190</td></tr>\n",
       "\t<tr><th scope=row>5</th><td>5</td><td>-0.672</td><td> 0.078</td><td>-0.266</td></tr>\n",
       "\t<tr><th scope=row>2</th><td>2</td><td> 0.029</td><td>-0.618</td><td>-0.190</td></tr>\n",
       "\t<tr><th scope=row>1</th><td>1</td><td> 0.731</td><td> 1.066</td><td> 1.094</td></tr>\n",
       "\t<tr><th scope=row>4</th><td>4</td><td> 1.056</td><td> 1.044</td><td> 1.000</td></tr>\n",
       "</tbody>\n",
       "</table>\n"
      ],
      "text/latex": [
       "A data.frame: 6 × 4\n",
       "\\begin{tabular}{r|llll}\n",
       "  & respondente & theta & thetaA & thetaB\\\\\n",
       "  & <dbl> & <dbl{[},1{]}> & <dbl{[},1{]}> & <dbl{[},1{]}>\\\\\n",
       "\\hline\n",
       "\t6 & 6 & -1.652 & -0.825 & -1.450\\\\\n",
       "\t3 & 3 & -1.005 & -0.618 & -0.190\\\\\n",
       "\t5 & 5 & -0.672 &  0.078 & -0.266\\\\\n",
       "\t2 & 2 &  0.029 & -0.618 & -0.190\\\\\n",
       "\t1 & 1 &  0.731 &  1.066 &  1.094\\\\\n",
       "\t4 & 4 &  1.056 &  1.044 &  1.000\\\\\n",
       "\\end{tabular}\n"
      ],
      "text/markdown": [
       "\n",
       "A data.frame: 6 × 4\n",
       "\n",
       "| <!--/--> | respondente &lt;dbl&gt; | theta &lt;dbl[,1]&gt; | thetaA &lt;dbl[,1]&gt; | thetaB &lt;dbl[,1]&gt; |\n",
       "|---|---|---|---|---|\n",
       "| 6 | 6 | -1.652 | -0.825 | -1.450 |\n",
       "| 3 | 3 | -1.005 | -0.618 | -0.190 |\n",
       "| 5 | 5 | -0.672 |  0.078 | -0.266 |\n",
       "| 2 | 2 |  0.029 | -0.618 | -0.190 |\n",
       "| 1 | 1 |  0.731 |  1.066 |  1.094 |\n",
       "| 4 | 4 |  1.056 |  1.044 |  1.000 |\n",
       "\n"
      ],
      "text/plain": [
       "  respondente theta  thetaA thetaB\n",
       "6 6           -1.652 -0.825 -1.450\n",
       "3 3           -1.005 -0.618 -0.190\n",
       "5 5           -0.672  0.078 -0.266\n",
       "2 2            0.029 -0.618 -0.190\n",
       "1 1            0.731  1.066  1.094\n",
       "4 4            1.056  1.044  1.000"
      ]
     },
     "metadata": {},
     "output_type": "display_data"
    }
   ],
   "source": [
    "round(theta[order(theta$theta),],3)"
   ]
  },
  {
   "attachments": {},
   "cell_type": "markdown",
   "metadata": {},
   "source": [
    "Agora, mostrando o dataframe com todas as estimativas, ordenando em ordem crescente os valores dos traços latentes referentes a equalização _a posteriori_ na métrica do grupo A."
   ]
  },
  {
   "cell_type": "code",
   "execution_count": 43,
   "metadata": {
    "vscode": {
     "languageId": "r"
    }
   },
   "outputs": [
    {
     "data": {
      "text/html": [
       "<table class=\"dataframe\">\n",
       "<caption>A data.frame: 6 × 4</caption>\n",
       "<thead>\n",
       "\t<tr><th></th><th scope=col>respondente</th><th scope=col>theta</th><th scope=col>thetaA</th><th scope=col>thetaB</th></tr>\n",
       "\t<tr><th></th><th scope=col>&lt;dbl&gt;</th><th scope=col>&lt;dbl[,1]&gt;</th><th scope=col>&lt;dbl[,1]&gt;</th><th scope=col>&lt;dbl[,1]&gt;</th></tr>\n",
       "</thead>\n",
       "<tbody>\n",
       "\t<tr><th scope=row>6</th><td>6</td><td>-1.652</td><td>-0.825</td><td>-1.450</td></tr>\n",
       "\t<tr><th scope=row>2</th><td>2</td><td> 0.029</td><td>-0.618</td><td>-0.190</td></tr>\n",
       "\t<tr><th scope=row>3</th><td>3</td><td>-1.005</td><td>-0.618</td><td>-0.190</td></tr>\n",
       "\t<tr><th scope=row>5</th><td>5</td><td>-0.672</td><td> 0.078</td><td>-0.266</td></tr>\n",
       "\t<tr><th scope=row>4</th><td>4</td><td> 1.056</td><td> 1.044</td><td> 1.000</td></tr>\n",
       "\t<tr><th scope=row>1</th><td>1</td><td> 0.731</td><td> 1.066</td><td> 1.094</td></tr>\n",
       "</tbody>\n",
       "</table>\n"
      ],
      "text/latex": [
       "A data.frame: 6 × 4\n",
       "\\begin{tabular}{r|llll}\n",
       "  & respondente & theta & thetaA & thetaB\\\\\n",
       "  & <dbl> & <dbl{[},1{]}> & <dbl{[},1{]}> & <dbl{[},1{]}>\\\\\n",
       "\\hline\n",
       "\t6 & 6 & -1.652 & -0.825 & -1.450\\\\\n",
       "\t2 & 2 &  0.029 & -0.618 & -0.190\\\\\n",
       "\t3 & 3 & -1.005 & -0.618 & -0.190\\\\\n",
       "\t5 & 5 & -0.672 &  0.078 & -0.266\\\\\n",
       "\t4 & 4 &  1.056 &  1.044 &  1.000\\\\\n",
       "\t1 & 1 &  0.731 &  1.066 &  1.094\\\\\n",
       "\\end{tabular}\n"
      ],
      "text/markdown": [
       "\n",
       "A data.frame: 6 × 4\n",
       "\n",
       "| <!--/--> | respondente &lt;dbl&gt; | theta &lt;dbl[,1]&gt; | thetaA &lt;dbl[,1]&gt; | thetaB &lt;dbl[,1]&gt; |\n",
       "|---|---|---|---|---|\n",
       "| 6 | 6 | -1.652 | -0.825 | -1.450 |\n",
       "| 2 | 2 |  0.029 | -0.618 | -0.190 |\n",
       "| 3 | 3 | -1.005 | -0.618 | -0.190 |\n",
       "| 5 | 5 | -0.672 |  0.078 | -0.266 |\n",
       "| 4 | 4 |  1.056 |  1.044 |  1.000 |\n",
       "| 1 | 1 |  0.731 |  1.066 |  1.094 |\n",
       "\n"
      ],
      "text/plain": [
       "  respondente theta  thetaA thetaB\n",
       "6 6           -1.652 -0.825 -1.450\n",
       "2 2            0.029 -0.618 -0.190\n",
       "3 3           -1.005 -0.618 -0.190\n",
       "5 5           -0.672  0.078 -0.266\n",
       "4 4            1.056  1.044  1.000\n",
       "1 1            0.731  1.066  1.094"
      ]
     },
     "metadata": {},
     "output_type": "display_data"
    }
   ],
   "source": [
    "round(theta[order(theta$thetaA),],3)"
   ]
  },
  {
   "attachments": {},
   "cell_type": "markdown",
   "metadata": {},
   "source": [
    "Finalmente, mostrando o dataframe com todas as estimativas, ordenando em ordem crescente os valores dos traços latentes referentes a equalização _a posteriori_ na métrica do grupo B."
   ]
  },
  {
   "cell_type": "code",
   "execution_count": 44,
   "metadata": {
    "vscode": {
     "languageId": "r"
    }
   },
   "outputs": [
    {
     "data": {
      "text/html": [
       "<table class=\"dataframe\">\n",
       "<caption>A data.frame: 6 × 4</caption>\n",
       "<thead>\n",
       "\t<tr><th></th><th scope=col>respondente</th><th scope=col>theta</th><th scope=col>thetaA</th><th scope=col>thetaB</th></tr>\n",
       "\t<tr><th></th><th scope=col>&lt;dbl&gt;</th><th scope=col>&lt;dbl[,1]&gt;</th><th scope=col>&lt;dbl[,1]&gt;</th><th scope=col>&lt;dbl[,1]&gt;</th></tr>\n",
       "</thead>\n",
       "<tbody>\n",
       "\t<tr><th scope=row>6</th><td>6</td><td>-1.652</td><td>-0.825</td><td>-1.450</td></tr>\n",
       "\t<tr><th scope=row>5</th><td>5</td><td>-0.672</td><td> 0.078</td><td>-0.266</td></tr>\n",
       "\t<tr><th scope=row>2</th><td>2</td><td> 0.029</td><td>-0.618</td><td>-0.190</td></tr>\n",
       "\t<tr><th scope=row>3</th><td>3</td><td>-1.005</td><td>-0.618</td><td>-0.190</td></tr>\n",
       "\t<tr><th scope=row>4</th><td>4</td><td> 1.056</td><td> 1.044</td><td> 1.000</td></tr>\n",
       "\t<tr><th scope=row>1</th><td>1</td><td> 0.731</td><td> 1.066</td><td> 1.094</td></tr>\n",
       "</tbody>\n",
       "</table>\n"
      ],
      "text/latex": [
       "A data.frame: 6 × 4\n",
       "\\begin{tabular}{r|llll}\n",
       "  & respondente & theta & thetaA & thetaB\\\\\n",
       "  & <dbl> & <dbl{[},1{]}> & <dbl{[},1{]}> & <dbl{[},1{]}>\\\\\n",
       "\\hline\n",
       "\t6 & 6 & -1.652 & -0.825 & -1.450\\\\\n",
       "\t5 & 5 & -0.672 &  0.078 & -0.266\\\\\n",
       "\t2 & 2 &  0.029 & -0.618 & -0.190\\\\\n",
       "\t3 & 3 & -1.005 & -0.618 & -0.190\\\\\n",
       "\t4 & 4 &  1.056 &  1.044 &  1.000\\\\\n",
       "\t1 & 1 &  0.731 &  1.066 &  1.094\\\\\n",
       "\\end{tabular}\n"
      ],
      "text/markdown": [
       "\n",
       "A data.frame: 6 × 4\n",
       "\n",
       "| <!--/--> | respondente &lt;dbl&gt; | theta &lt;dbl[,1]&gt; | thetaA &lt;dbl[,1]&gt; | thetaB &lt;dbl[,1]&gt; |\n",
       "|---|---|---|---|---|\n",
       "| 6 | 6 | -1.652 | -0.825 | -1.450 |\n",
       "| 5 | 5 | -0.672 |  0.078 | -0.266 |\n",
       "| 2 | 2 |  0.029 | -0.618 | -0.190 |\n",
       "| 3 | 3 | -1.005 | -0.618 | -0.190 |\n",
       "| 4 | 4 |  1.056 |  1.044 |  1.000 |\n",
       "| 1 | 1 |  0.731 |  1.066 |  1.094 |\n",
       "\n"
      ],
      "text/plain": [
       "  respondente theta  thetaA thetaB\n",
       "6 6           -1.652 -0.825 -1.450\n",
       "5 5           -0.672  0.078 -0.266\n",
       "2 2            0.029 -0.618 -0.190\n",
       "3 3           -1.005 -0.618 -0.190\n",
       "4 4            1.056  1.044  1.000\n",
       "1 1            0.731  1.066  1.094"
      ]
     },
     "metadata": {},
     "output_type": "display_data"
    }
   ],
   "source": [
    "round(theta[order(theta$thetaB),],3)"
   ]
  },
  {
   "attachments": {},
   "cell_type": "markdown",
   "metadata": {},
   "source": [
    "No dataframe é possível notar que as equalizações _a posteriori_ produzem resultados consistentes, onde somente o respondente 5 obteve uma nota relativamente menor na métrica do grupo B. Por outro lado, comparando a equalização via população com a equalização _a posteriori_, vemos uma certa consistencia também, mas os resultados são mais divergentes.\n",
    "\n",
    "É importante enfatizar que em cada caso o pesquisador/avaliador deve olhar os casos divergentes e escolher a equalização que melhor satisfaz suas necessiadades."
   ]
  }
 ],
 "metadata": {
  "kernelspec": {
   "display_name": "R",
   "language": "R",
   "name": "ir"
  },
  "language_info": {
   "codemirror_mode": "r",
   "file_extension": ".r",
   "mimetype": "text/x-r-source",
   "name": "R",
   "pygments_lexer": "r",
   "version": "4.2.3"
  },
  "orig_nbformat": 4
 },
 "nbformat": 4,
 "nbformat_minor": 2
}
